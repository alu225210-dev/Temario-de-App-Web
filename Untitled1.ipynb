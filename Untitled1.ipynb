{
  "nbformat": 4,
  "nbformat_minor": 0,
  "metadata": {
    "colab": {
      "provenance": [],
      "authorship_tag": "ABX9TyPsdZpmvfpDYc1OAl0RiLk3",
      "include_colab_link": true
    },
    "kernelspec": {
      "name": "python3",
      "display_name": "Python 3"
    },
    "language_info": {
      "name": "python"
    }
  },
  "cells": [
    {
      "cell_type": "markdown",
      "metadata": {
        "id": "view-in-github",
        "colab_type": "text"
      },
      "source": [
        "<a href=\"https://colab.research.google.com/github/alu225210-dev/Temario-de-App-Web/blob/main/Untitled1.ipynb\" target=\"_parent\"><img src=\"https://colab.research.google.com/assets/colab-badge.svg\" alt=\"Open In Colab\"/></a>"
      ]
    },
    {
      "cell_type": "code",
      "execution_count": null,
      "metadata": {
        "id": "7m_nSpcj_hl8"
      },
      "outputs": [],
      "source": [
        "1.- Realizar un programa en python que te permita capturar 3 números enteros e imprima cual de los 3 es el mayor"
      ]
    },
    {
      "cell_type": "code",
      "source": [
        "from collections.abc import MutableMapping\n",
        "num1 = int(input(\"El primer numero es: \"))\n",
        "num2 = int(input(\"El segundo numero es: \"))\n",
        "num3= int(input(\"El tercer numero es: \"))\n",
        "\n",
        "print(\"El mayor es:\", max(num1, num2, num3))\n",
        "\n",
        "\n"
      ],
      "metadata": {
        "colab": {
          "base_uri": "https://localhost:8080/"
        },
        "id": "-S3cbpms_3cQ",
        "outputId": "0664f96d-fb52-4437-d017-ae228dfad8a4"
      },
      "execution_count": 9,
      "outputs": [
        {
          "output_type": "stream",
          "name": "stdout",
          "text": [
            "El primer numero es: 16\n",
            "El segundo numero es: 6\n",
            "El tercer numero es: 18\n",
            "El mayor es: 18\n"
          ]
        }
      ]
    },
    {
      "cell_type": "markdown",
      "source": [
        "2.- Realizar un programa en python mediante el cual calcules el total de caracteres que tiene un nombre capturado desde el teclado.\n"
      ],
      "metadata": {
        "id": "byhXL47UFzl0"
      }
    },
    {
      "cell_type": "code",
      "source": [
        "palabra = input(\"Ingresa una palabra: \")\n",
        "caracteres = len(palabra)\n",
        "print(\"la palabra tiene\", caracteres ,\"caracteres\")"
      ],
      "metadata": {
        "colab": {
          "base_uri": "https://localhost:8080/"
        },
        "id": "4SWBzgbPF7Ma",
        "outputId": "c220a0f0-bc15-4875-a189-79cf55e22ccb"
      },
      "execution_count": 13,
      "outputs": [
        {
          "output_type": "stream",
          "name": "stdout",
          "text": [
            "Ingresa una palabra: Daniel es el amor de mi vida\n",
            "la palabra tiene 28 caracteres\n"
          ]
        }
      ]
    },
    {
      "cell_type": "markdown",
      "source": [
        "Realizar un programa en python que permita imprimir los 7 días de la semana."
      ],
      "metadata": {
        "id": "6oFNjHhTGCAp"
      }
    },
    {
      "cell_type": "code",
      "source": [
        "respuesta = input(\"presiona 0 para que el programa te imprima los dias de la semana\")\n",
        "if respuesta == \"0\":\n",
        "  print(\"lunes\")\n",
        "  print(\"martes\")\n",
        "  print(\"miercoles\")\n",
        "  print(\"jueves\")\n",
        "  print(\"viernes\")\n",
        "  print(\"sabado\")\n",
        "  print(\"domingo\")\n",
        "\n"
      ],
      "metadata": {
        "colab": {
          "base_uri": "https://localhost:8080/"
        },
        "id": "VlbMV1IgGF_K",
        "outputId": "2a582f80-b50f-49b5-c624-2a26f8199595"
      },
      "execution_count": 15,
      "outputs": [
        {
          "output_type": "stream",
          "name": "stdout",
          "text": [
            "presiona 0 para que el programa te imprima los dias de la semana0\n",
            "lunes\n",
            "martes\n",
            "miercoles\n",
            "jueves\n",
            "viernes\n",
            "sabado\n",
            "domingo\n"
          ]
        }
      ]
    }
  ]
}